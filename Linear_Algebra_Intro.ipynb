{
  "nbformat": 4,
  "nbformat_minor": 0,
  "metadata": {
    "colab": {
      "name": "Copy of Linear Algebra Intro.ipynb",
      "provenance": [],
      "collapsed_sections": [],
      "include_colab_link": true
    },
    "kernelspec": {
      "name": "python3",
      "display_name": "Python 3"
    },
    "accelerator": "GPU"
  },
  "cells": [
    {
      "cell_type": "markdown",
      "metadata": {
        "id": "view-in-github",
        "colab_type": "text"
      },
      "source": [
        "<a href=\"https://colab.research.google.com/github/antsh3k/NN-learning/blob/master/Linear_Algebra_Intro.ipynb\" target=\"_parent\"><img src=\"https://colab.research.google.com/assets/colab-badge.svg\" alt=\"Open In Colab\"/></a>"
      ]
    },
    {
      "cell_type": "markdown",
      "metadata": {
        "id": "htngkLTTrXbU",
        "colab_type": "text"
      },
      "source": [
        "### use cmd + m+ h for list of all commands"
      ]
    },
    {
      "cell_type": "code",
      "metadata": {
        "id": "0vuunFaYPtsO",
        "colab_type": "code",
        "colab": {}
      },
      "source": [
        "import numpy as np\n",
        "import torch # this is pytorch\n",
        "import torch.nn as nn # this is the neural net subpackage\n",
        "import matplotlib.pyplot as plt"
      ],
      "execution_count": 0,
      "outputs": []
    },
    {
      "cell_type": "code",
      "metadata": {
        "id": "P2mVkvhwrgUs",
        "colab_type": "code",
        "colab": {}
      },
      "source": [
        ""
      ],
      "execution_count": 0,
      "outputs": []
    },
    {
      "cell_type": "markdown",
      "metadata": {
        "id": "OqF2Tp9GX449",
        "colab_type": "text"
      },
      "source": [
        "**Fundamental Objects**\n",
        "\n",
        "- Scalars \n",
        "- Vectors\n",
        "- Matricies\n",
        "- Tensor\n",
        "\n",
        "\n",
        "---\n",
        "\n",
        "**Going forward we will be using numpy for the introduction, but everything is the same no matter do we use pytorch, tensorflow...**\n",
        "\n",
        "\n",
        "---\n",
        "**Scalars** - any number\n",
        "\n",
        "1 or 3.4 or 10 or ...\n",
        "\n",
        "\n",
        "---\n",
        "\n",
        "\n",
        "**Vectors** - one dimensional list of elements (numbers...)\n",
        "\n",
        "\\begin{equation}\n",
        "x = \\left(\\begin{array}{c} 2 & 3 & 7 & 8\\end{array}\\right)\n",
        "\\end{equation}\n",
        "\n",
        "\n",
        "---\n",
        "\n",
        "**Matrices** - a two dimensional list of elements (numbers or anything else)\n",
        "\n",
        "\\begin{equation}\n",
        "x = \\left(\\begin{array}{ccc} 2 & 3\\\\ 7 & 13 \\\\ 4 & 6\\end{array}\\right)\n",
        "\\end{equation}\n",
        "\n",
        "---\n",
        "**Tensors** - a generalization of a matrix - it can be a scalara, vector, matrix\n"
      ]
    },
    {
      "cell_type": "code",
      "metadata": {
        "id": "VXrFXvWX4DSy",
        "colab_type": "code",
        "outputId": "efea4db7-283d-43cf-95cc-2df4e1c71ce6",
        "colab": {
          "base_uri": "https://localhost:8080/",
          "height": 34
        }
      },
      "source": [
        "# Scalars\n",
        "\n",
        "x = 1\n",
        "np.isscalar(x)"
      ],
      "execution_count": 0,
      "outputs": [
        {
          "output_type": "execute_result",
          "data": {
            "text/plain": [
              "True"
            ]
          },
          "metadata": {
            "tags": []
          },
          "execution_count": 5
        }
      ]
    },
    {
      "cell_type": "code",
      "metadata": {
        "id": "Vkchguhm4MnD",
        "colab_type": "code",
        "outputId": "3eef2156-6b2d-4e19-c547-e46cf79e4d93",
        "colab": {
          "base_uri": "https://localhost:8080/",
          "height": 68
        }
      },
      "source": [
        "# Vectors\n",
        "x = np.arange(5) # range of numbers 1-5\n",
        "print(x)\n",
        "\n",
        "# Note that this is not a vector, this is a way to represent a vector\n",
        "#More in general a ndarray is a numpy structure that can be used to represente\n",
        "#vector, matrices and tensors\n",
        "print(type(x))\n",
        "\n",
        "# OR\n",
        "x = np.array([7, 4, 2, 3]) # convert a list to np.array\n",
        "print(x)"
      ],
      "execution_count": 0,
      "outputs": [
        {
          "output_type": "stream",
          "text": [
            "[0 1 2 3 4]\n",
            "<class 'numpy.ndarray'>\n",
            "[7 4 2 3]\n"
          ],
          "name": "stdout"
        }
      ]
    },
    {
      "cell_type": "code",
      "metadata": {
        "id": "MMup1cJe4UEI",
        "colab_type": "code",
        "outputId": "50e5ce67-2524-4b0b-d73e-f4c781a450e0",
        "colab": {
          "base_uri": "https://localhost:8080/",
          "height": 51
        }
      },
      "source": [
        "# We can easily get the shape of a vector using .shape\n",
        "print(x.shape) # attribute without () but a function requires () \n",
        "# OR get the number of elements\n",
        "print(x.size)"
      ],
      "execution_count": 0,
      "outputs": [
        {
          "output_type": "stream",
          "text": [
            "(4,)\n",
            "4\n"
          ],
          "name": "stdout"
        }
      ]
    },
    {
      "cell_type": "code",
      "metadata": {
        "id": "5lH6jzFS4mvF",
        "colab_type": "code",
        "outputId": "1a2ae648-fdda-45fe-b149-a59d80fdc71b",
        "colab": {
          "base_uri": "https://localhost:8080/",
          "height": 51
        }
      },
      "source": [
        "# To access elements of a vector\n",
        "print(x[1]) # The element in position 1\n",
        "print(x[0]) # The element in position 0 - note that indexing starts from 0 in python"
      ],
      "execution_count": 0,
      "outputs": [
        {
          "output_type": "stream",
          "text": [
            "4\n",
            "7\n"
          ],
          "name": "stdout"
        }
      ]
    },
    {
      "cell_type": "markdown",
      "metadata": {
        "id": "jOfjJTgt46NB",
        "colab_type": "text"
      },
      "source": [
        "For a vector:\n",
        "\n",
        "\\begin{equation}\n",
        "x = \\left(\\begin{array}{c} 7 & 4 & 2 & 3\\end{array}\\right)\n",
        "\\end{equation}\n",
        "\n",
        "the $i$-th element of a vector is dented as:\n",
        "\n",
        "$x_i$ \n",
        "\n",
        "For our vector $x$\n",
        "\n",
        "$x_0 = 7$"
      ]
    },
    {
      "cell_type": "code",
      "metadata": {
        "id": "gqE81Gtw5zoY",
        "colab_type": "code",
        "outputId": "8299180d-c160-4b94-bd5a-81ee792ca9e5",
        "colab": {
          "base_uri": "https://localhost:8080/",
          "height": 286
        }
      },
      "source": [
        "# We can plot vectors using matplotlib\n",
        "x = np.array([7, 4, 2, 3])\n",
        "y = np.array([1, 2, 3, 4])\n",
        "plt.scatter(x, y)"
      ],
      "execution_count": 0,
      "outputs": [
        {
          "output_type": "execute_result",
          "data": {
            "text/plain": [
              "<matplotlib.collections.PathCollection at 0x7f40b21484e0>"
            ]
          },
          "metadata": {
            "tags": []
          },
          "execution_count": 9
        },
        {
          "output_type": "display_data",
          "data": {
            "image/png": "[encoded data removed]",
            "text/plain": [
              "<Figure size 432x288 with 1 Axes>"
            ]
          },
          "metadata": {
            "tags": []
          }
        }
      ]
    },
    {
      "cell_type": "code",
      "metadata": {
        "id": "nOL47XPB7MSn",
        "colab_type": "code",
        "outputId": "2d789bcd-cd7f-45b4-c2b2-e44656557bfe",
        "colab": {
          "base_uri": "https://localhost:8080/",
          "height": 85
        }
      },
      "source": [
        "# Matrices in python are represented the same way as vectors\n",
        "A = np.array([[2, 3], [7, 13], [4, 6]]) # this is a list of lists, convention that you represent matrix with uppercase variables\n",
        "print(A)\n",
        "print(type(A))"
      ],
      "execution_count": 0,
      "outputs": [
        {
          "output_type": "stream",
          "text": [
            "[[ 2  3]\n",
            " [ 7 13]\n",
            " [ 4  6]]\n",
            "<class 'numpy.ndarray'>\n"
          ],
          "name": "stdout"
        }
      ]
    },
    {
      "cell_type": "code",
      "metadata": {
        "id": "XyswBapj7rOA",
        "colab_type": "code",
        "outputId": "637fa00d-c1c6-4169-ec23-ff931dd08926",
        "colab": {
          "base_uri": "https://localhost:8080/",
          "height": 51
        }
      },
      "source": [
        "# We use the same commands for shape\n",
        "print(A.shape)\n",
        "# And for the number of elements in this matrix\n",
        "print(A.size)"
      ],
      "execution_count": 0,
      "outputs": [
        {
          "output_type": "stream",
          "text": [
            "(3, 2)\n",
            "6\n"
          ],
          "name": "stdout"
        }
      ]
    },
    {
      "cell_type": "markdown",
      "metadata": {
        "id": "XpNOdEOu8Hlp",
        "colab_type": "text"
      },
      "source": [
        "For a matrix:\n",
        "\n",
        "\\begin{equation}\n",
        "A = \\left(\\begin{array}{ccc} 2 & 3\\\\ 7 & 13 \\\\ 4 & 6\\end{array}\\right)\n",
        "\\end{equation}\n",
        "\n",
        "the element in row $i$ and column $j$ is denoted as:\n",
        "\n",
        "$A_{i,j}$ \n",
        "\n",
        "For our matrix $A$\n",
        "\n",
        "$x_{0,0} = 2$"
      ]
    },
    {
      "cell_type": "code",
      "metadata": {
        "id": "aJHPirH68pQ_",
        "colab_type": "code",
        "outputId": "7b5f2d2b-b590-4b25-ea3f-9910b239fcb7",
        "colab": {
          "base_uri": "https://localhost:8080/",
          "height": 34
        }
      },
      "source": [
        "# To access the elements of a matrix we use the same syntax\n",
        "print(A[0, 0])"
      ],
      "execution_count": 0,
      "outputs": [
        {
          "output_type": "stream",
          "text": [
            "2\n"
          ],
          "name": "stdout"
        }
      ]
    },
    {
      "cell_type": "code",
      "metadata": {
        "id": "OrBAb6yO9WKu",
        "colab_type": "code",
        "outputId": "89fbd001-1f76-4c00-c153-c3a7fe2fa1ae",
        "colab": {
          "base_uri": "https://localhost:8080/",
          "height": 51
        }
      },
      "source": [
        "# It is also possible to access specific rows or columns of a matrix using the : symbol\n",
        "print(A[0,:]) # all columns in row 0\n",
        "# Print column 1\n",
        "print(A[:, 0]) # All rows from column 0"
      ],
      "execution_count": 0,
      "outputs": [
        {
          "output_type": "stream",
          "text": [
            "[2 3]\n",
            "[2 7 4]\n"
          ],
          "name": "stdout"
        }
      ]
    },
    {
      "cell_type": "code",
      "metadata": {
        "id": "rUILf50a-KUX",
        "colab_type": "code",
        "outputId": "cf21d3e5-08e2-4b9e-c680-338a8005f2e4",
        "colab": {
          "base_uri": "https://localhost:8080/",
          "height": 102
        }
      },
      "source": [
        "# More about slicing\n",
        "print(A[1:3, :])\n",
        "print()\n",
        "# Even more\n",
        "print(A[1:3, 0:2])"
      ],
      "execution_count": 0,
      "outputs": [
        {
          "output_type": "stream",
          "text": [
            "[[ 7 13]\n",
            " [ 4  6]]\n",
            "\n",
            "[[ 7 13]\n",
            " [ 4  6]]\n"
          ],
          "name": "stdout"
        }
      ]
    },
    {
      "cell_type": "markdown",
      "metadata": {
        "id": "5uajhlrd9F6r",
        "colab_type": "text"
      },
      "source": [
        "**Basic operations between vectors and matrices**\n",
        "- Addition\n",
        "- Subtraction\n",
        "- Multiplication\n",
        "- Division\n",
        "- Dot products\n",
        "\n",
        "\\begin{equation}\n",
        "x = \\left(\\begin{array}{c} 7 & 4 & 2 & 3\\end{array}\\right) \\\\\n",
        "y = \\left(\\begin{array}{c} 1 & 2 & 3 & 4\\end{array}\\right) \\\\\n",
        "\\end{equation}\n",
        "\n",
        "**Addition**\n",
        "\n",
        "\\begin{equation}\n",
        "x + y = \\left(\\begin{array}{c} 7+1 & 4+2 & 2+3 & 3+4\\end{array}\\right)  = \\left(\\begin{array}{c} 8 & 6 & 5 & 7\\end{array}\\right)\n",
        "\\end{equation}\n",
        "\n",
        "**Subtraction**\n",
        "\n",
        "\\begin{equation}\n",
        "x - y = \\left(\\begin{array}{c} 7-1 & 4-2 & 2-3 & 3-4\\end{array}\\right)  = \\left(\\begin{array}{c} 6 & 2 & -1 & -1\\end{array}\\right)\n",
        "\\end{equation}\n",
        "\n",
        "**Multiplication (also called element wise product)**\n",
        "\n",
        "\\begin{equation}\n",
        "x \\odot y = \\left(\\begin{array}{c} 7*1 & 4*2 & 2*3 & 3*4\\end{array}\\right)  = \\left(\\begin{array}{c} 7 & 8 & 6 & 12\\end{array}\\right)\n",
        "\\end{equation}\n",
        "\n",
        "**Division**\n",
        "\n",
        "\\begin{equation}\n",
        "x / y = \\left(\\begin{array}{c} 7/1 & 4/2 & 2/3 & 3/4\\end{array}\\right)  = \\left(\\begin{array}{c} 7 & 2 & 0.667 & 0.75\\end{array}\\right)\n",
        "\\end{equation}\n",
        "\n",
        "**Dot product (sometimes this is called matrix multiplication)**\n",
        "\n",
        "\\begin{equation}\n",
        "x \\cdot y = \\left(\\begin{array}{c} 7*1 + 4*2 + 2*3 + 3*4\\end{array}\\right)  = 33\n",
        "\\end{equation} "
      ]
    },
    {
      "cell_type": "code",
      "metadata": {
        "id": "21yM_X3eA3yI",
        "colab_type": "code",
        "outputId": "18d0f066-7f80-412e-cbbe-0deed9fd258a",
        "colab": {
          "base_uri": "https://localhost:8080/",
          "height": 102
        }
      },
      "source": [
        "x = np.array([7, 4, 2, 3])\n",
        "y = np.array([1, 2, 3, 4])\n",
        "# Addition - shapes must agree\n",
        "print(\"x + y = {}\".format(x+y))\n",
        "# Subtraction - shapes must agree\n",
        "print(\"x - y = {}\".format(x-y))\n",
        "# Multiplication - shapes must agree\n",
        "print(\"x * y = {}\".format(x*y))\n",
        "# Divison - shapes must agree\n",
        "print(\"x / y = {}\".format(x/y))\n",
        "# Dot product\n",
        "print(\"x . y = {}\".format(x.dot(y)))"
      ],
      "execution_count": 0,
      "outputs": [
        {
          "output_type": "stream",
          "text": [
            "x + y = [8 6 5 7]\n",
            "x - y = [ 6  2 -1 -1]\n",
            "x * y = [ 7  8  6 12]\n",
            "x / y = [7.         2.         0.66666667 0.75      ]\n",
            "x . y = 33\n"
          ],
          "name": "stdout"
        }
      ]
    },
    {
      "cell_type": "markdown",
      "metadata": {
        "id": "gD3ghM3OBChx",
        "colab_type": "text"
      },
      "source": [
        "**All the basic operations are the same for matrices. We will only look into the $dot$ producti in detail**\n",
        "\n",
        "---\n",
        "\n",
        "Note that certain rules must be followed when doing operations between matrices (same goes for vectors). For example if doing matrix addition the shapes of the two matrices must agree. To express this more formally we say that two matrices are addition conformable if we can add them, same goes for any other operations between matrices.\n",
        "\n",
        "---\n",
        "\n",
        "\n",
        "<img src=\"https://drive.google.com/uc?export=view&id=1AuVnTJQVaLQgImz4EGif0Ic_WsR05yrV\" height='300px' />"
      ]
    },
    {
      "cell_type": "code",
      "metadata": {
        "id": "-D2LKQV4Bff3",
        "colab_type": "code",
        "outputId": "358c5eaa-9585-42b4-efd7-18186139f5ea",
        "colab": {
          "base_uri": "https://localhost:8080/",
          "height": 51
        }
      },
      "source": [
        "A = np.array([[1, 7], [2, 4]])\n",
        "B = np.array([[3, 3], [5, 2]])\n",
        "print(A.dot(B))"
      ],
      "execution_count": 0,
      "outputs": [
        {
          "output_type": "stream",
          "text": [
            "[[38 17]\n",
            " [26 14]]\n"
          ],
          "name": "stdout"
        }
      ]
    },
    {
      "cell_type": "code",
      "metadata": {
        "id": "UKFxLlg8Ec2h",
        "colab_type": "code",
        "outputId": "0cf2fc95-ba2f-4b15-bf14-99dd095037fd",
        "colab": {
          "base_uri": "https://localhost:8080/",
          "height": 34
        }
      },
      "source": [
        "a1 = A[0, :]\n",
        "b1 = B[:, 0]\n",
        "print(a1.dot(b1))"
      ],
      "execution_count": 0,
      "outputs": [
        {
          "output_type": "stream",
          "text": [
            "38\n"
          ],
          "name": "stdout"
        }
      ]
    },
    {
      "cell_type": "markdown",
      "metadata": {
        "id": "OikhHHo_FWFm",
        "colab_type": "text"
      },
      "source": [
        "The dimensions of matrices don't have to be the same for the $dot$ product to be possible. But the number of $columns$ of the first matrix must be the same as the number of $rows$ in the second matrix."
      ]
    },
    {
      "cell_type": "code",
      "metadata": {
        "id": "ek5RXTT0F-KL",
        "colab_type": "code",
        "outputId": "c6cc0331-efbf-4099-ecab-5bfff5189e88",
        "colab": {
          "base_uri": "https://localhost:8080/",
          "height": 272
        }
      },
      "source": [
        "A = np.random.rand(8, 6)\n",
        "B = np.random.rand(6, 2)\n",
        "print(A)\n",
        "print()\n",
        "print(B)"
      ],
      "execution_count": 0,
      "outputs": [
        {
          "output_type": "stream",
          "text": [
            "[[0.55336798 0.91503647 0.20069432 0.10990718 0.79314129 0.67744063]\n",
            " [0.0231404  0.65421904 0.81487728 0.07742952 0.19154301 0.42392916]\n",
            " [0.35248028 0.7848758  0.40265612 0.82518743 0.44672267 0.01829202]\n",
            " [0.0171436  0.44446845 0.02707571 0.34634683 0.69310792 0.38838255]\n",
            " [0.3711516  0.40512993 0.0246439  0.71549189 0.94262912 0.12716838]\n",
            " [0.73782055 0.49007697 0.74654497 0.5330139  0.26114552 0.43531241]\n",
            " [0.02645347 0.42691359 0.7759187  0.57118907 0.54229329 0.89630028]\n",
            " [0.72496985 0.15152325 0.02778745 0.74817217 0.89927612 0.44123171]]\n",
            "\n",
            "[[0.27408442 0.63787307]\n",
            " [0.81252335 0.4634552 ]\n",
            " [0.13119599 0.46196051]\n",
            " [0.02780712 0.12898146]\n",
            " [0.62752645 0.51365611]\n",
            " [0.10243585 0.06137787]]\n"
          ],
          "name": "stdout"
        }
      ]
    },
    {
      "cell_type": "code",
      "metadata": {
        "id": "QmPIhpxjGLHu",
        "colab_type": "code",
        "outputId": "e078266d-9de3-45ca-c8dc-125fe8a936ac",
        "colab": {
          "base_uri": "https://localhost:8080/",
          "height": 221
        }
      },
      "source": [
        "C = A.dot(B)\n",
        "print(C)\n",
        "print(\"\\nThe shape of A is: {}\\nThe shape of B is: {}\\nThe shape of C is: {}\".format(A.shape, B.shape, C.shape))"
      ],
      "execution_count": 0,
      "outputs": [
        {
          "output_type": "stream",
          "text": [
            "[[1.49165587 1.33292752]\n",
            " [0.81059624 0.82879706]\n",
            " [1.09231627 1.11162212]\n",
            " [0.85375076 0.6539641 ]\n",
            " [1.05858465 1.02016942]\n",
            " [0.9216567  1.27224533]\n",
            " [0.90392495 0.98041115]\n",
            " [0.95578672 1.13100057]]\n",
            "\n",
            "The shape of A is: (8, 6)\n",
            "The shape of B is: (6, 2)\n",
            "The shape of C is: (8, 2)\n"
          ],
          "name": "stdout"
        }
      ]
    },
    {
      "cell_type": "markdown",
      "metadata": {
        "id": "LbOg9fU0GS3f",
        "colab_type": "text"
      },
      "source": [
        "The shape of the resulting matrix is: number of $rows$ from the first and number of $columns$ from the second"
      ]
    },
    {
      "cell_type": "code",
      "metadata": {
        "id": "zFFQ6YLQGnQF",
        "colab_type": "code",
        "outputId": "2afd83dd-c54d-47d2-9591-3660568a2f03",
        "colab": {
          "base_uri": "https://localhost:8080/",
          "height": 198
        }
      },
      "source": [
        "# The dot product is not possible if columns_1 != rows_2\n",
        "A = np.random.rand(8, 4)\n",
        "B = np.random.rand(6, 2)\n",
        "print(A.dot(B))"
      ],
      "execution_count": 0,
      "outputs": [
        {
          "output_type": "error",
          "ename": "ValueError",
          "evalue": "ignored",
          "traceback": [
            "\u001b[0;31m---------------------------------------------------------------------------\u001b[0m",
            "\u001b[0;31mValueError\u001b[0m                                Traceback (most recent call last)",
            "\u001b[0;32m<ipython-input-23-d8caabbbeddc>\u001b[0m in \u001b[0;36m<module>\u001b[0;34m()\u001b[0m\n\u001b[1;32m      1\u001b[0m \u001b[0mA\u001b[0m \u001b[0;34m=\u001b[0m \u001b[0mnp\u001b[0m\u001b[0;34m.\u001b[0m\u001b[0mrandom\u001b[0m\u001b[0;34m.\u001b[0m\u001b[0mrand\u001b[0m\u001b[0;34m(\u001b[0m\u001b[0;36m8\u001b[0m\u001b[0;34m,\u001b[0m \u001b[0;36m4\u001b[0m\u001b[0;34m)\u001b[0m\u001b[0;34m\u001b[0m\u001b[0;34m\u001b[0m\u001b[0m\n\u001b[1;32m      2\u001b[0m \u001b[0mB\u001b[0m \u001b[0;34m=\u001b[0m \u001b[0mnp\u001b[0m\u001b[0;34m.\u001b[0m\u001b[0mrandom\u001b[0m\u001b[0;34m.\u001b[0m\u001b[0mrand\u001b[0m\u001b[0;34m(\u001b[0m\u001b[0;36m6\u001b[0m\u001b[0;34m,\u001b[0m \u001b[0;36m2\u001b[0m\u001b[0;34m)\u001b[0m\u001b[0;34m\u001b[0m\u001b[0;34m\u001b[0m\u001b[0m\n\u001b[0;32m----> 3\u001b[0;31m \u001b[0mprint\u001b[0m\u001b[0;34m(\u001b[0m\u001b[0mA\u001b[0m\u001b[0;34m.\u001b[0m\u001b[0mdot\u001b[0m\u001b[0;34m(\u001b[0m\u001b[0mB\u001b[0m\u001b[0;34m)\u001b[0m\u001b[0;34m)\u001b[0m\u001b[0;34m\u001b[0m\u001b[0;34m\u001b[0m\u001b[0m\n\u001b[0m",
            "\u001b[0;31mValueError\u001b[0m: shapes (8,4) and (6,2) not aligned: 4 (dim 1) != 6 (dim 0)"
          ]
        }
      ]
    },
    {
      "cell_type": "code",
      "metadata": {
        "id": "kzIaZtmZHN3a",
        "colab_type": "code",
        "outputId": "97464af0-1275-4c1e-c573-be5b2983ed56",
        "colab": {
          "base_uri": "https://localhost:8080/",
          "height": 34
        }
      },
      "source": [
        "# It is possible to do a dot product between vectors and matrices\n",
        "A = np.random.rand(8, 4)\n",
        "B = np.random.rand(8,)\n",
        "print(B.dot(A))"
      ],
      "execution_count": 0,
      "outputs": [
        {
          "output_type": "stream",
          "text": [
            "[1.54720527 1.76109453 1.8966065  1.61567686]\n"
          ],
          "name": "stdout"
        }
      ]
    },
    {
      "cell_type": "markdown",
      "metadata": {
        "id": "HJvyK5eYHrTy",
        "colab_type": "text"
      },
      "source": [
        "**The final thing that we need is the /transpose/ function**\n",
        "\n",
        "A matrix can be transposed, which means we switch the rows and clumns. The first row -> first column, second row -> second column and so on. \n",
        "\n",
        "<img src=\"https://drive.google.com/uc?export=view&id=1IPmLTJRrb4szyIALpMymykbr2qIfIalU\" height='250px' />"
      ]
    },
    {
      "cell_type": "markdown",
      "metadata": {
        "id": "ZyH-9fj4I19Q",
        "colab_type": "text"
      },
      "source": [
        "**IMPORTANT: A vector in numpy can not be transposed, only a matrix**"
      ]
    },
    {
      "cell_type": "code",
      "metadata": {
        "id": "X10RlHfaJCpS",
        "colab_type": "code",
        "outputId": "44674fad-e6fb-45b3-a912-e675eec4a086",
        "colab": {
          "base_uri": "https://localhost:8080/",
          "height": 187
        }
      },
      "source": [
        "A = np.random.randint(0, 100, size=(4, 2))\n",
        "print(A)\n",
        "print()\n",
        "print(A.T) # .T is transpose.\n",
        "print()\n",
        "print(A.shape)\n",
        "print(A.T.shape)"
      ],
      "execution_count": 0,
      "outputs": [
        {
          "output_type": "stream",
          "text": [
            "[[66 34]\n",
            " [65 45]\n",
            " [83 69]\n",
            " [58 82]]\n",
            "\n",
            "[[66 65 83 58]\n",
            " [34 45 69 82]]\n",
            "\n",
            "(4, 2)\n",
            "(2, 4)\n"
          ],
          "name": "stdout"
        }
      ]
    },
    {
      "cell_type": "code",
      "metadata": {
        "id": "0ztww1UmJNEE",
        "colab_type": "code",
        "outputId": "eb7029c3-fe3f-4ffc-aaf6-7fed6e306d5c",
        "colab": {
          "base_uri": "https://localhost:8080/",
          "height": 119
        }
      },
      "source": [
        "# Transpose a vector, it is possible, but we get the same thing.\n",
        "#The reason is a vector in numpy doesn't have the notion of rows and columns\n",
        "x = np.array([1, 2, 3])\n",
        "print(x)\n",
        "print()\n",
        "print(x.T)\n",
        "print()\n",
        "print(x.shape)\n",
        "print(x.T.shape)"
      ],
      "execution_count": 0,
      "outputs": [
        {
          "output_type": "stream",
          "text": [
            "[1 2 3]\n",
            "\n",
            "[1 2 3]\n",
            "\n",
            "(3,)\n",
            "(3,)\n"
          ],
          "name": "stdout"
        }
      ]
    },
    {
      "cell_type": "code",
      "metadata": {
        "id": "tZuE90mTJkiY",
        "colab_type": "code",
        "outputId": "88f4751a-82c9-43e0-c7ec-ed9dc967199b",
        "colab": {
          "base_uri": "https://localhost:8080/",
          "height": 170
        }
      },
      "source": [
        "# A vector represented as a matrix\n",
        "A = np.random.randint(0, 100, size=(4, 1))\n",
        "print(A)\n",
        "print()\n",
        "print(A.T)\n",
        "print()\n",
        "print(A.shape)\n",
        "print(A.T.shape)"
      ],
      "execution_count": 0,
      "outputs": [
        {
          "output_type": "stream",
          "text": [
            "[[79]\n",
            " [74]\n",
            " [26]\n",
            " [54]]\n",
            "\n",
            "[[79 74 26 54]]\n",
            "\n",
            "(4, 1)\n",
            "(1, 4)\n"
          ],
          "name": "stdout"
        }
      ]
    },
    {
      "cell_type": "code",
      "metadata": {
        "id": "AOejvIpfJ0Ce",
        "colab_type": "code",
        "outputId": "8f08c2fa-bb02-4844-a091-71b0c600f201",
        "colab": {
          "base_uri": "https://localhost:8080/",
          "height": 459
        }
      },
      "source": [
        "# To get a tensor (1d, 2d, 3d or more)\n",
        "x = np.random.randint(0, 100, size=(4, 2, 3))\n",
        "print(\"-------- A 3d numpy nd-array\")\n",
        "print(x)\n",
        "y = torch.randint(0, 100, size=(4, 2, 3))\n",
        "print(\"\\n------- A 3d pytorch tensor\") # A tensor is a gereneralisation of a matrix\n",
        "print(y)\n",
        "print(type(y))"
      ],
      "execution_count": 0,
      "outputs": [
        {
          "output_type": "stream",
          "text": [
            "-------- A 3d numpy nd-array\n",
            "[[[49 28 37]\n",
            "  [51 50  6]]\n",
            "\n",
            " [[22 96 32]\n",
            "  [31 19 75]]\n",
            "\n",
            " [[92 21 91]\n",
            "  [96 90 50]]\n",
            "\n",
            " [[11 35 24]\n",
            "  [49 52 93]]]\n",
            "\n",
            "------- A 3d pytorch tensor\n",
            "tensor([[[26, 78, 39],\n",
            "         [49, 90, 98]],\n",
            "\n",
            "        [[60, 31, 52],\n",
            "         [33, 72, 71]],\n",
            "\n",
            "        [[81, 61, 20],\n",
            "         [33, 20, 52]],\n",
            "\n",
            "        [[ 3, 55, 55],\n",
            "         [17, 53, 99]]])\n",
            "<class 'torch.Tensor'>\n"
          ],
          "name": "stdout"
        }
      ]
    },
    {
      "cell_type": "code",
      "metadata": {
        "id": "2-h-47pHSihV",
        "colab_type": "code",
        "outputId": "5ea9935e-fbed-4e17-e256-9ed7925315a0",
        "colab": {
          "base_uri": "https://localhost:8080/",
          "height": 68
        }
      },
      "source": [
        "x = torch.tensor(1)\n",
        "print(x)\n",
        "print(x.shape) #Attribute\n",
        "print(x.size()) # Function"
      ],
      "execution_count": 0,
      "outputs": [
        {
          "output_type": "stream",
          "text": [
            "tensor(1)\n",
            "torch.Size([])\n",
            "torch.Size([])\n"
          ],
          "name": "stdout"
        }
      ]
    },
    {
      "cell_type": "markdown",
      "metadata": {
        "id": "ezlxaO1gKNVE",
        "colab_type": "text"
      },
      "source": [
        "---\n",
        "\n",
        "# **Tips and things to be careful about**\n",
        "- Broadcasting\n",
        "- Sampling\n",
        "- Reshaping\n",
        "- Other useful functions from numpy"
      ]
    },
    {
      "cell_type": "code",
      "metadata": {
        "id": "6kRdltwrw0K1",
        "colab_type": "code",
        "outputId": "ffaa8183-77fb-4042-c59c-fd96e8e2a8ef",
        "colab": {
          "base_uri": "https://localhost:8080/",
          "height": 136
        }
      },
      "source": [
        "# Broadcasting\n",
        "A = np.random.randint(0, 10, size=(3, 4))\n",
        "x = np.random.randint(0, 10, size=(3, 1))\n",
        "print(A)\n",
        "print()\n",
        "print(x)"
      ],
      "execution_count": 0,
      "outputs": [
        {
          "output_type": "stream",
          "text": [
            "[[4 0 9 4]\n",
            " [3 2 9 6]\n",
            " [1 4 3 3]]\n",
            "\n",
            "[[7]\n",
            " [7]\n",
            " [4]]\n"
          ],
          "name": "stdout"
        }
      ]
    },
    {
      "cell_type": "code",
      "metadata": {
        "id": "dpQ8_ne6xJoi",
        "colab_type": "code",
        "outputId": "a424803d-3635-42b4-b8f0-98454eb0c34f",
        "colab": {
          "base_uri": "https://localhost:8080/",
          "height": 68
        }
      },
      "source": [
        "A + x"
      ],
      "execution_count": 0,
      "outputs": [
        {
          "output_type": "execute_result",
          "data": {
            "text/plain": [
              "array([[11,  7, 16, 11],\n",
              "       [10,  9, 16, 13],\n",
              "       [ 5,  8,  7,  7]])"
            ]
          },
          "metadata": {
            "tags": []
          },
          "execution_count": 34
        }
      ]
    },
    {
      "cell_type": "code",
      "metadata": {
        "id": "ogJC3KigxKXo",
        "colab_type": "code",
        "outputId": "695d4404-81b9-41f3-c86c-d1674e190067",
        "colab": {
          "base_uri": "https://localhost:8080/",
          "height": 68
        }
      },
      "source": [
        "A - x"
      ],
      "execution_count": 0,
      "outputs": [
        {
          "output_type": "execute_result",
          "data": {
            "text/plain": [
              "array([[-3, -7,  2, -3],\n",
              "       [-4, -5,  2, -1],\n",
              "       [-3,  0, -1, -1]])"
            ]
          },
          "metadata": {
            "tags": []
          },
          "execution_count": 35
        }
      ]
    },
    {
      "cell_type": "code",
      "metadata": {
        "id": "EOqtkuiDxtqj",
        "colab_type": "code",
        "outputId": "f6e25b80-5bab-4c97-e5d7-7d58c7dbd31a",
        "colab": {
          "base_uri": "https://localhost:8080/",
          "height": 354
        }
      },
      "source": [
        "# Sample from a normal distribution\n",
        "x = np.random.normal(size=[1000, 1])\n",
        "plt.hist(x)  # good to see the shape of your data"
      ],
      "execution_count": 0,
      "outputs": [
        {
          "output_type": "execute_result",
          "data": {
            "text/plain": [
              "(array([  4.,  15.,  52., 125., 181., 244., 185., 133.,  47.,  14.]),\n",
              " array([-3.34528154, -2.73619476, -2.12710799, -1.51802121, -0.90893444,\n",
              "        -0.29984767,  0.30923911,  0.91832588,  1.52741266,  2.13649943,\n",
              "         2.74558621]),\n",
              " <a list of 10 Patch objects>)"
            ]
          },
          "metadata": {
            "tags": []
          },
          "execution_count": 37
        },
        {
          "output_type": "display_data",
          "data": {
            "image/png": "[encoded data removed]",
            "text/plain": [
              "<Figure size 432x288 with 1 Axes>"
            ]
          },
          "metadata": {
            "tags": []
          }
        }
      ]
    },
    {
      "cell_type": "code",
      "metadata": {
        "id": "J82X8SquI-Pu",
        "colab_type": "code",
        "outputId": "af0db4a1-a4b8-4bd3-d0f6-c22ccc1bfc63",
        "colab": {
          "base_uri": "https://localhost:8080/",
          "height": 354
        }
      },
      "source": [
        "# Or a uniform distribution\n",
        "x = np.random.uniform(size=[1000, 1])\n",
        "plt.hist(x)"
      ],
      "execution_count": 0,
      "outputs": [
        {
          "output_type": "execute_result",
          "data": {
            "text/plain": [
              "(array([ 97., 109., 123., 101.,  93., 106.,  83.,  86.,  98., 104.]),\n",
              " array([0.00137328, 0.10109689, 0.2008205 , 0.30054411, 0.40026772,\n",
              "        0.49999133, 0.59971493, 0.69943854, 0.79916215, 0.89888576,\n",
              "        0.99860937]),\n",
              " <a list of 10 Patch objects>)"
            ]
          },
          "metadata": {
            "tags": []
          },
          "execution_count": 38
        },
        {
          "output_type": "display_data",
          "data": {
            "image/png": "[encoded data removed]",
            "text/plain": [
              "<Figure size 432x288 with 1 Axes>"
            ]
          },
          "metadata": {
            "tags": []
          }
        }
      ]
    },
    {
      "cell_type": "code",
      "metadata": {
        "id": "ahPet1SzJM41",
        "colab_type": "code",
        "outputId": "b5ee562e-4450-4985-8f24-d15183e8adf9",
        "colab": {
          "base_uri": "https://localhost:8080/",
          "height": 51
        }
      },
      "source": [
        "# Reshape matrices\n",
        "x = np.random.normal(size=[1000, 2])\n",
        "print(x.shape)\n",
        "x = x.reshape(400, 5)\n",
        "print(x.shape)"
      ],
      "execution_count": 0,
      "outputs": [
        {
          "output_type": "stream",
          "text": [
            "(1000, 2)\n",
            "(400, 5)\n"
          ],
          "name": "stdout"
        }
      ]
    },
    {
      "cell_type": "code",
      "metadata": {
        "id": "4Y2R4OaGJsjW",
        "colab_type": "code",
        "outputId": "05c87c2b-3589-47f1-9faf-9be4bee8aba7",
        "colab": {
          "base_uri": "https://localhost:8080/",
          "height": 164
        }
      },
      "source": [
        "# The number of elements must remain the same - we can't do\n",
        "x.reshape(5, 100)"
      ],
      "execution_count": 0,
      "outputs": [
        {
          "output_type": "error",
          "ename": "ValueError",
          "evalue": "ignored",
          "traceback": [
            "\u001b[0;31m---------------------------------------------------------------------------\u001b[0m",
            "\u001b[0;31mValueError\u001b[0m                                Traceback (most recent call last)",
            "\u001b[0;32m<ipython-input-40-afd3b340f0b9>\u001b[0m in \u001b[0;36m<module>\u001b[0;34m()\u001b[0m\n\u001b[0;32m----> 1\u001b[0;31m \u001b[0mx\u001b[0m\u001b[0;34m.\u001b[0m\u001b[0mreshape\u001b[0m\u001b[0;34m(\u001b[0m\u001b[0;36m5\u001b[0m\u001b[0;34m,\u001b[0m \u001b[0;36m100\u001b[0m\u001b[0;34m)\u001b[0m\u001b[0;34m\u001b[0m\u001b[0;34m\u001b[0m\u001b[0m\n\u001b[0m",
            "\u001b[0;31mValueError\u001b[0m: cannot reshape array of size 2000 into shape (5,100)"
          ]
        }
      ]
    },
    {
      "cell_type": "code",
      "metadata": {
        "id": "s7QUXJl0Juzd",
        "colab_type": "code",
        "outputId": "a199dd6e-b226-4ffa-d41d-9bafef0b263d",
        "colab": {
          "base_uri": "https://localhost:8080/",
          "height": 34
        }
      },
      "source": [
        "# Let numpy calculate dimensions\n",
        "x = x.reshape(10, -1)\n",
        "print(x.shape)"
      ],
      "execution_count": 0,
      "outputs": [
        {
          "output_type": "stream",
          "text": [
            "(10, 200)\n"
          ],
          "name": "stdout"
        }
      ]
    },
    {
      "cell_type": "code",
      "metadata": {
        "id": "n5Uz_hHHJ_re",
        "colab_type": "code",
        "outputId": "219dab7e-b1ef-44aa-d241-10846169e297",
        "colab": {
          "base_uri": "https://localhost:8080/",
          "height": 34
        }
      },
      "source": [
        "# To flatten the matrix we do - take care this converts it to a vector\n",
        "x = x.reshape(-1)\n",
        "print(x.shape)"
      ],
      "execution_count": 0,
      "outputs": [
        {
          "output_type": "stream",
          "text": [
            "(2000,)\n"
          ],
          "name": "stdout"
        }
      ]
    },
    {
      "cell_type": "code",
      "metadata": {
        "id": "62V-A3Kt2mPV",
        "colab_type": "code",
        "outputId": "d54ac8e6-fa9e-4b0b-accc-55e424b1b55f",
        "colab": {
          "base_uri": "https://localhost:8080/",
          "height": 85
        }
      },
      "source": [
        "# Sorting\n",
        "x = np.random.randint(0, 30, 10)\n",
        "print(x)\n",
        "print(np.sort(x))\n",
        "print(np.argsort(x)) # give you the arguements that will sort the vector\n",
        "print(x[np.argsort(x)])"
      ],
      "execution_count": 0,
      "outputs": [
        {
          "output_type": "stream",
          "text": [
            "[26 11  9  5  2 27 21  1  9  5]\n",
            "[ 1  2  5  5  9  9 11 21 26 27]\n",
            "[7 4 3 9 2 8 1 6 0 5]\n",
            "[ 1  2  5  5  9  9 11 21 26 27]\n"
          ],
          "name": "stdout"
        }
      ]
    },
    {
      "cell_type": "code",
      "metadata": {
        "id": "ZP7Qr3cR2w-C",
        "colab_type": "code",
        "outputId": "01c4e8e0-3382-4ee7-ec10-3cffb6aa557c",
        "colab": {
          "base_uri": "https://localhost:8080/",
          "height": 68
        }
      },
      "source": [
        "# Permuations and random sample\n",
        "x = np.arange(0, 20)\n",
        "print(x)\n",
        "print(x[np.random.permutation(len(x))])\n",
        "print(np.random.choice(x, 10))"
      ],
      "execution_count": 0,
      "outputs": [
        {
          "output_type": "stream",
          "text": [
            "[ 0  1  2  3  4  5  6  7  8  9 10 11 12 13 14 15 16 17 18 19]\n",
            "[15 13 18 17  5  4 14  1  6 10 16  3  7  2  8 19  0  9 11 12]\n",
            "[ 4  6 18  1  3  9  1  0 13  7]\n"
          ],
          "name": "stdout"
        }
      ]
    },
    {
      "cell_type": "code",
      "metadata": {
        "id": "eR1eU8e73DHZ",
        "colab_type": "code",
        "outputId": "bdb550e6-8c32-4cf0-ad56-3fed02d6531b",
        "colab": {
          "base_uri": "https://localhost:8080/",
          "height": 136
        }
      },
      "source": [
        "# Slicing and selections - one of the most important \n",
        "\n",
        "# We want to select only the numbers > 10 in x\n",
        "for val in x:\n",
        "  if val > 10:\n",
        "    print(val)\n",
        "    \n",
        "# When working with vectors or matrices or deep learning - the moment you have to write a loop something is wrong\n",
        "print(x[x>10])\n",
        "print(x>10)\n",
        "print()"
      ],
      "execution_count": 0,
      "outputs": [
        {
          "output_type": "stream",
          "text": [
            "26\n",
            "11\n",
            "27\n",
            "21\n",
            "[26 11 27 21]\n",
            "[ True  True False False False  True  True False False False]\n",
            "\n"
          ],
          "name": "stdout"
        }
      ]
    },
    {
      "cell_type": "code",
      "metadata": {
        "id": "tmrnOWiYzvla",
        "colab_type": "code",
        "colab": {}
      },
      "source": [
        ""
      ],
      "execution_count": 0,
      "outputs": []
    }
  ]
}
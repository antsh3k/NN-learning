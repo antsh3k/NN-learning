{
  "nbformat": 4,
  "nbformat_minor": 0,
  "metadata": {
    "colab": {
      "name": "Copy of TODO - Neural Networks Intro.ipynb",
      "provenance": [],
      "collapsed_sections": [],
      "include_colab_link": true
    },
    "kernelspec": {
      "name": "python3",
      "display_name": "Python 3"
    },
    "accelerator": "GPU"
  },
  "cells": [
    {
      "cell_type": "markdown",
      "metadata": {
        "id": "view-in-github",
        "colab_type": "text"
      },
      "source": [
        "<a href=\"https://colab.research.google.com/github/antsh3k/NN-learning/blob/master/Neural_Networks_Intro.ipynb\" target=\"_parent\"><img src=\"https://colab.research.google.com/assets/colab-badge.svg\" alt=\"Open In Colab\"/></a>"
      ]
    },
    {
      "cell_type": "code",
      "metadata": {
        "id": "IQDLSEDWIGOi",
        "colab_type": "code",
        "colab": {}
      },
      "source": [
        "# SWICH RUNTIME TO GPU\n",
        "\n",
        "\n",
        "import numpy as np\n",
        "import sklearn.metrics\n",
        "\n",
        "# For ploting \n",
        "import matplotlib.pyplot as plt\n",
        "import seaborn as sns\n",
        "\n",
        "# Get torch stuff\n",
        "import torch\n",
        "from torch import nn\n",
        "import torch.nn.functional as F\n",
        "import torch.optim as optim\n",
        "\n",
        "np.random.seed(42) # this allows you to repeat the random number generator. Always generate the same random number for repeatable results"
      ],
      "execution_count": 0,
      "outputs": []
    },
    {
      "cell_type": "markdown",
      "metadata": {
        "id": "ujmQVjC-IbRT",
        "colab_type": "text"
      },
      "source": [
        "# **Neurons are the basic building blocks of Neural Networks**\n",
        "\n",
        "Usually a neural network has thousands or millions of neurons, but let's for now work with a network that has only one.\n",
        "\n",
        "<img src=\"https://drive.google.com/uc?export=view&id=1NEd7WQrLTUzAPz44t6bUEma02LH4GOT3\" height='250px' />\n",
        "\n",
        "$\n",
        "x_1 - \\text{Input} \\\\\n",
        "ŷ_1 - \\text{Output} \\\\\n",
        "$\n",
        "\n",
        "$\n",
        "z_1 = w_1 \\cdot x_1 + b_1 \\\\\n",
        "w_1 - \\text{Weight for the first input} \\\\\n",
        "b_1 - \\text{Bias term for this neuron} \\\\\n",
        "z_1 - \\text{The linear combination of the inputs and weights + bias} \\\\\n",
        "$\n",
        "\n",
        "$\n",
        "\\theta = \\{w, b\\} \\\\\n",
        "\\theta - \\text{Parameters of the model/network} \\\\\n",
        "$\n",
        "\n",
        "$\n",
        "ŷ_1 = f(z_1) \\\\\n",
        "f - \\text{The activation function} \\\\\n",
        "$\n",
        "\n",
        "\n"
      ]
    },
    {
      "cell_type": "markdown",
      "metadata": {
        "id": "KBFKRgUEninT",
        "colab_type": "text"
      },
      "source": [
        "# **Activation functions**\n",
        "\n",
        "Linear:\n",
        "\n",
        "$f(z) = z$\n",
        "\n",
        "---\n",
        "Step:\n",
        "\n",
        "$f(z) = \\begin{cases}\n",
        "    1,& \\text{if } z > 0\\\\\n",
        "    0,              & z \\le 0\n",
        "\\end{cases}$\n",
        "\n",
        "---\n",
        "Sigmoid:\n",
        "\n",
        "$f(z) = \\frac{1}{1 + e^{-z}}$\n",
        "\n",
        "---\n",
        "tanh:\n",
        "\n",
        "$f(z) = tanh(z) = \\frac{1 - e^{-z}}{1 + e^{-z}}$\n",
        "\n",
        "---\n",
        "ReLU:\n",
        "\n",
        "$f(z) = max(0, z)$\n",
        "\n",
        "### This is a rectified linear function. if z<0 then 0, if z>0 output z\n",
        "\n"
      ]
    },
    {
      "cell_type": "code",
      "metadata": {
        "id": "IJ3C53nLnXng",
        "colab_type": "code",
        "colab": {}
      },
      "source": [
        "def step(z):\n",
        "  return np.array(z > 0, dtype=np.int32)\n",
        "\n",
        "def tanh(z):\n",
        "  return np.tanh(z)\n",
        "\n",
        "def sigmoid(z):\n",
        "  # TODO\n",
        "  return 1/(1+np.exp(-z))\n",
        "            \n",
        "def relu(z):\n",
        "  # TODO\n",
        "  return np.maximum(0,z)\n",
        "  "
      ],
      "execution_count": 0,
      "outputs": []
    },
    {
      "cell_type": "code",
      "metadata": {
        "id": "DFZtd4J3qygv",
        "colab_type": "code",
        "colab": {}
      },
      "source": [
        "def plot(z, yh, name):\n",
        "  plt.grid(True)\n",
        "  plt.xlabel('z')\n",
        "  plt.ylabel('ŷ')\n",
        "  plt.plot(z, yh, label=name, color='b')\n",
        "  plt.axhline(0, color='orange')\n",
        "  plt.axvline(0, color='orange')\n",
        "  plt.legend()\n",
        "  plt.show()"
      ],
      "execution_count": 0,
      "outputs": []
    },
    {
      "cell_type": "code",
      "metadata": {
        "id": "7hwUZfB5lm-s",
        "colab_type": "code",
        "outputId": "869010b2-cbb7-4c4b-b056-da7553f2df65",
        "colab": {
          "base_uri": "https://localhost:8080/",
          "height": 283
        }
      },
      "source": [
        "z = np.linspace(-10, 10, 100)\n",
        "\n",
        "yh = step(z)\n",
        "plot(z, yh, 'Step')"
      ],
      "execution_count": 0,
      "outputs": [
        {
          "output_type": "display_data",
          "data": {
            "image/png": "[encoded data removed]",
            "text/plain": [
              "<Figure size 432x288 with 1 Axes>"
            ]
          },
          "metadata": {
            "tags": []
          }
        }
      ]
    },
    {
      "cell_type": "code",
      "metadata": {
        "id": "uyQk5swil_Es",
        "colab_type": "code",
        "outputId": "894c7852-f34c-4c80-de8e-afae3ff62b01",
        "colab": {
          "base_uri": "https://localhost:8080/",
          "height": 283
        }
      },
      "source": [
        "yh = relu(z)\n",
        "plot(z, yh, 'ReLU')"
      ],
      "execution_count": 0,
      "outputs": [
        {
          "output_type": "display_data",
          "data": {
            "image/png": "[encoded data removed]",
            "text/plain": [
              "<Figure size 432x288 with 1 Axes>"
            ]
          },
          "metadata": {
            "tags": []
          }
        }
      ]
    },
    {
      "cell_type": "code",
      "metadata": {
        "id": "7MAyNnZ8q-XR",
        "colab_type": "code",
        "outputId": "dca8503b-afd4-4057-b8e3-64ac64146d9d",
        "colab": {
          "base_uri": "https://localhost:8080/",
          "height": 283
        }
      },
      "source": [
        "yh = sigmoid(z)\n",
        "plot(z, yh, 'Sigmoid')"
      ],
      "execution_count": 0,
      "outputs": [
        {
          "output_type": "display_data",
          "data": {
            "image/png": "[encoded data removed]",
            "text/plain": [
              "<Figure size 432x288 with 1 Axes>"
            ]
          },
          "metadata": {
            "tags": []
          }
        }
      ]
    },
    {
      "cell_type": "markdown",
      "metadata": {
        "id": "Vrpiv-ggrkth",
        "colab_type": "text"
      },
      "source": [
        "# **An example of an oversimplified problem that can be solved using NN**\n",
        "\n",
        "Our input is outside temperature which is a value between -30 and 40. We want our NN to predict is it hot or cold outside. This is an example of supervised ML using NN.\n",
        "\n",
        "Let's encode the output values as:\n",
        "\n",
        "$\n",
        "hot   -  1 \\\\\n",
        "cold - 0\n",
        "$\n",
        "\n",
        "---\n",
        "\n",
        "$\n",
        "D = \\{\\\\\n",
        "(-4, 0), \\\\\n",
        "(1, 0),\\\\\n",
        "(25, 1),\\\\\n",
        "...\\}\n",
        "$\n",
        "\n",
        "---"
      ]
    },
    {
      "cell_type": "code",
      "metadata": {
        "id": "4r9g8JofO0DA",
        "colab_type": "code",
        "outputId": "cf2bf2b8-e6e5-4d69-b0f6-de1c3556dd0d",
        "colab": {
          "base_uri": "https://localhost:8080/",
          "height": 187
        }
      },
      "source": [
        "np.random.seed(10)\n",
        "# TODO: Generate a vector with 1000 integers with values from -30 to 40\n",
        "x = np.random.randint(-30, 40, size = 1000, dtype='int')\n",
        "y = np.array([1 if v > 20 else 0 for v in x])\n",
        "for i in range(10):\n",
        "  print(\"If the temperature is {:4} it is  {}\".format(x[i], \"hot\" if y[i] == 1 else \"cold\"))"
      ],
      "execution_count": 0,
      "outputs": [
        {
          "output_type": "stream",
          "text": [
            "If the temperature is  -21 it is  cold\n",
            "If the temperature is  -15 it is  cold\n",
            "If the temperature is   34 it is  hot\n",
            "If the temperature is   -2 it is  cold\n",
            "If the temperature is   -1 it is  cold\n",
            "If the temperature is  -22 it is  cold\n",
            "If the temperature is  -30 it is  cold\n",
            "If the temperature is   10 it is  cold\n",
            "If the temperature is    6 it is  cold\n",
            "If the temperature is  -14 it is  cold\n"
          ],
          "name": "stdout"
        }
      ]
    },
    {
      "cell_type": "markdown",
      "metadata": {
        "id": "hXl8QgTxPChm",
        "colab_type": "text"
      },
      "source": [
        "# Initialize the parameters\n",
        "\n",
        "<img src=\"https://drive.google.com/uc?export=view&id=1NEd7WQrLTUzAPz44t6bUEma02LH4GOT3\" height='250px' />\n",
        "\n",
        "The first thing we need to do is initialize the parameters of our NN. In our case we only have two parameters $w_1$ and $b_1$. Usually a random value between -1 and 1 is assigned to both. "
      ]
    },
    {
      "cell_type": "code",
      "metadata": {
        "id": "M0amrdVbQZsQ",
        "colab_type": "code",
        "outputId": "789b8716-4e60-4e9d-92ab-24bcaea672c7",
        "colab": {
          "base_uri": "https://localhost:8080/",
          "height": 34
        }
      },
      "source": [
        "#Set seed, so that we always have the same result\n",
        "np.random.seed(13)\n",
        "\n",
        "# TODO: Initialize the parameters of the Neural Network\n",
        "w1 = np.random.uniform(low = -1, high = 1) # This is the weight\n",
        "b1 = np.random.uniform(low = -1, high = 1) # This represents bias\n",
        "print(w1, b1)"
      ],
      "execution_count": 0,
      "outputs": [
        {
          "output_type": "stream",
          "text": [
            "0.5554048211476403 -0.5249175599301754\n"
          ],
          "name": "stdout"
        }
      ]
    },
    {
      "cell_type": "markdown",
      "metadata": {
        "id": "On58e1i3Quzr",
        "colab_type": "text"
      },
      "source": [
        "$\n",
        "z_1 = w_1 \\cdot x_1 + b_1 \\\\\n",
        "ŷ_1 = f(z_1) \\\\\n",
        "$\n",
        "\n",
        "Calculate the outputs, set sigmoid as the activation function."
      ]
    },
    {
      "cell_type": "code",
      "metadata": {
        "id": "fA1uNfMWRYXM",
        "colab_type": "code",
        "outputId": "c6bfa13c-6bb1-40fe-a045-38934cb74f09",
        "colab": {
          "base_uri": "https://localhost:8080/",
          "height": 68
        }
      },
      "source": [
        "#TODO \n",
        "# Forward pass - get the predictions\n",
        "z1 = w1*x + b1\n",
        "yh = sigmoid(z1)\n",
        "print(z1[0:3])\n",
        "print()\n",
        "print(yh[0:3])"
      ],
      "execution_count": 0,
      "outputs": [
        {
          "output_type": "stream",
          "text": [
            "[-12.1884188   -8.85598988  18.35884636]\n",
            "\n",
            "[5.08902706e-06 1.42505154e-04 9.99999989e-01]\n"
          ],
          "name": "stdout"
        }
      ]
    },
    {
      "cell_type": "markdown",
      "metadata": {
        "id": "qsN9wHStB6ZV",
        "colab_type": "text"
      },
      "source": [
        "# Because we are using the sigmod function we can interpret the output as probability"
      ]
    },
    {
      "cell_type": "code",
      "metadata": {
        "id": "h_eDCmmJRinZ",
        "colab_type": "code",
        "colab": {}
      },
      "source": [
        "# Decode the outputs hot/cold\n",
        "yh_temp = ['hot' if val > 0.5 else 'cold' for val in yh]"
      ],
      "execution_count": 0,
      "outputs": []
    },
    {
      "cell_type": "code",
      "metadata": {
        "id": "waDET7DcSF0R",
        "colab_type": "code",
        "outputId": "caeec18a-1c1f-4a2b-9ca5-88e84a720838",
        "colab": {
          "base_uri": "https://localhost:8080/",
          "height": 187
        }
      },
      "source": [
        "# Print the first 10 g.t. and predictions\n",
        "for i in range(10):\n",
        "  print(\"If the temperature is {:4} it is  {:4}  vs predicted  {}\".format(\n",
        "      x[i], \"hot\" if y[i] == 1 else \"cold\", yh_temp[i]))"
      ],
      "execution_count": 0,
      "outputs": [
        {
          "output_type": "stream",
          "text": [
            "If the temperature is  -21 it is  cold  vs predicted  cold\n",
            "If the temperature is  -15 it is  cold  vs predicted  cold\n",
            "If the temperature is   34 it is  hot   vs predicted  hot\n",
            "If the temperature is   -2 it is  cold  vs predicted  cold\n",
            "If the temperature is   -1 it is  cold  vs predicted  cold\n",
            "If the temperature is  -22 it is  cold  vs predicted  cold\n",
            "If the temperature is  -30 it is  cold  vs predicted  cold\n",
            "If the temperature is   10 it is  cold  vs predicted  hot\n",
            "If the temperature is    6 it is  cold  vs predicted  hot\n",
            "If the temperature is  -14 it is  cold  vs predicted  cold\n"
          ],
          "name": "stdout"
        }
      ]
    },
    {
      "cell_type": "markdown",
      "metadata": {
        "id": "8hLJVhXuSOhH",
        "colab_type": "text"
      },
      "source": [
        "# Cost function / Loss function / Error function\n",
        "\n",
        "###  # The functions calculate how good or bad the model is performing\n",
        "\n",
        "Cross entropy loss is defined as:\n",
        "\n",
        "$\n",
        "L = -\\frac{1}{N}\\sum_i y_i log(\\hat{y}_i) + (1-y_i)log(1-\\hat{y}_i) \\\\\n",
        "$\n",
        "\n",
        "\n",
        "\n",
        "$\n",
        "N - \\text{Number of examples in our training set} \\\\\n",
        "y_i - \\text{The ground truth} \\\\\n",
        "\\hat{y}_i - \\text{The predicted value}\\\\\n",
        "$\n",
        "\n",
        "---\n",
        "$\n",
        "y = 1 = hot \\\\\n",
        "yh = 0.3 = cold \\\\\n",
        "L = -1 \\cdot log(0.3) + (1 - 1)log(1-0.3) = -log(0.3) = 1.2 \\\\\n",
        "$\n",
        "\n",
        "$\n",
        "y = 1 = hot \\\\\n",
        "yh = 0.9 = hot \\\\\n",
        "L = -1 \\cdot log(0.9) + (1 - 1)log(1-0.9) = -log(0.9) = 0.1 \\\\\n",
        "$\n",
        "\n",
        "$\n",
        "y = 1 = hot \\\\\n",
        "yh = 0.01 = cold \\\\\n",
        "L = -1 \\cdot log(0.01) + (1 - 1)log(1-0.01) = -log(0.01) = 4.6\n",
        "$"
      ]
    },
    {
      "cell_type": "code",
      "metadata": {
        "id": "7NSuYWnkVmg0",
        "colab_type": "code",
        "outputId": "01a8fa63-594a-419b-eaea-ee088e7b4a5e",
        "colab": {
          "base_uri": "https://localhost:8080/",
          "height": 51
        }
      },
      "source": [
        "# Calculate the loss\n",
        "loss = sklearn.metrics.log_loss(y, yh)\n",
        "print(loss)\n",
        "\n",
        "# calculate the accuracy (this is more for the person to interpret the performance of the model)\n",
        "\n",
        "acc = sklearn.metrics.accuracy_score(y, [1 if x =='hot' else 0 for x in yh_temp])\n",
        "print(acc)"
      ],
      "execution_count": 0,
      "outputs": [
        {
          "output_type": "stream",
          "text": [
            "1.6246888975390206\n",
            "0.694\n"
          ],
          "name": "stdout"
        }
      ]
    },
    {
      "cell_type": "markdown",
      "metadata": {
        "id": "AhuGAeDSlaQx",
        "colab_type": "text"
      },
      "source": [
        "# **1. Prepare the dataset**"
      ]
    },
    {
      "cell_type": "code",
      "metadata": {
        "id": "6Ql-AinznzkW",
        "colab_type": "code",
        "outputId": "7d13a938-dd4e-41ce-9b4a-78d22a2ded98",
        "colab": {
          "base_uri": "https://localhost:8080/",
          "height": 85
        }
      },
      "source": [
        "device = torch.device('cuda')\n",
        "\n",
        "# The whole dataset\n",
        "print(x[0:10])\n",
        "print(y[0:10])\n",
        "print()\n",
        "# Print the size\n",
        "print(\"The size of our dataset is: \" + str(x.size))"
      ],
      "execution_count": 0,
      "outputs": [
        {
          "output_type": "stream",
          "text": [
            "[-21 -15  34  -2  -1 -22 -30  10   6 -14]\n",
            "[0 0 1 0 0 0 0 0 0 0]\n",
            "\n",
            "The size of our dataset is: 1000\n"
          ],
          "name": "stdout"
        }
      ]
    },
    {
      "cell_type": "markdown",
      "metadata": {
        "id": "KFUrCsLFotKC",
        "colab_type": "text"
      },
      "source": [
        "\n",
        "\n",
        "---\n",
        "\n",
        "\n",
        "**Generate a train/test/dev dataset**"
      ]
    },
    {
      "cell_type": "code",
      "metadata": {
        "id": "gXLRWcExot62",
        "colab_type": "code",
        "colab": {}
      },
      "source": [
        "inds = np.random.permutation(len(x))\n",
        "inds_train = inds[0:int(0.8*len(x))]\n",
        "inds_test = inds[int(0.8*len(x)):int(0.9*len(x))]\n",
        "inds_dev = inds[int(0.9*len(x)):]\n",
        "\n",
        "# 80% of the dataset\n",
        "x_train = x[inds_train]\n",
        "y_train = y[inds_train]\n",
        "\n",
        "# 10% of the dataset\n",
        "x_test = x[inds_test]\n",
        "y_test = y[inds_test]\n",
        "\n",
        "# 10% of the dataset\n",
        "x_dev = x[inds_dev]\n",
        "y_dev = y[inds_dev]"
      ],
      "execution_count": 0,
      "outputs": []
    },
    {
      "cell_type": "markdown",
      "metadata": {
        "id": "OB1XiSSloStq",
        "colab_type": "text"
      },
      "source": [
        "\n",
        "\n",
        "---\n",
        "\n",
        "\n",
        "**Convert the inputs to PyTorch**"
      ]
    },
    {
      "cell_type": "code",
      "metadata": {
        "id": "uVrQT2IjoTXM",
        "colab_type": "code",
        "colab": {}
      },
      "source": [
        "x_train = torch.tensor(x_train.reshape(-1, 1), dtype=torch.float32)\n",
        "y_train = torch.tensor(y_train.reshape(-1, 1), dtype=torch.float32)\n",
        "\n",
        "x_dev = torch.tensor(x_dev.reshape(-1, 1), dtype=torch.float32)\n",
        "y_dev = torch.tensor(y_dev.reshape(-1, 1), dtype=torch.float32)\n",
        "\n",
        "x_test = torch.tensor(x_test.reshape(-1, 1), dtype=torch.float32)\n",
        "y_test = torch.tensor(y_test.reshape(-1, 1), dtype=torch.float32)"
      ],
      "execution_count": 0,
      "outputs": []
    },
    {
      "cell_type": "markdown",
      "metadata": {
        "id": "TBXyAyEV-cJG",
        "colab_type": "text"
      },
      "source": [
        "# Build the Neural Network"
      ]
    },
    {
      "cell_type": "code",
      "metadata": {
        "id": "v6XuMnffc_fm",
        "colab_type": "code",
        "colab": {}
      },
      "source": [
        "class Net(nn.Module):\n",
        "    def __init__(self):\n",
        "      super(Net, self).__init__()\n",
        "      self.fc1 = nn.Linear(1, 1)\n",
        "      \n",
        "    def forward(self, x):\n",
        "      x = torch.sigmoid(self.fc1(x))\n",
        "      return x"
      ],
      "execution_count": 0,
      "outputs": []
    },
    {
      "cell_type": "markdown",
      "metadata": {
        "id": "M_MeocL1-mLy",
        "colab_type": "text"
      },
      "source": [
        "# Initialize the NN\n",
        "\n",
        "We also create the criterion (loss function) and the optimizer"
      ]
    },
    {
      "cell_type": "code",
      "metadata": {
        "id": "dQNhGqNc-k5K",
        "colab_type": "code",
        "colab": {}
      },
      "source": [
        "net = Net()\n",
        "criterion = nn.BCELoss()\n",
        "optimizer = optim.SGD(net.parameters(), lr=0.0001, momentum=0.999)"
      ],
      "execution_count": 0,
      "outputs": []
    },
    {
      "cell_type": "code",
      "metadata": {
        "id": "rglW4qhaCP89",
        "colab_type": "code",
        "outputId": "6cf1c9f9-84c2-4c72-b799-91e769f462ef",
        "colab": {
          "base_uri": "https://localhost:8080/",
          "height": 85
        }
      },
      "source": [
        "print(net.fc1.weight) #fc 1 stands for fully connected in pytorch\n",
        "print(net.fc1.bias)"
      ],
      "execution_count": 0,
      "outputs": [
        {
          "output_type": "stream",
          "text": [
            "Parameter containing:\n",
            "tensor([[0.5622]], requires_grad=True)\n",
            "Parameter containing:\n",
            "tensor([0.2634], requires_grad=True)\n"
          ],
          "name": "stdout"
        }
      ]
    },
    {
      "cell_type": "markdown",
      "metadata": {
        "id": "zuynUnhO-tvs",
        "colab_type": "text"
      },
      "source": [
        "# Train"
      ]
    },
    {
      "cell_type": "code",
      "metadata": {
        "id": "3XLMa0rxdk0m",
        "colab_type": "code",
        "outputId": "40c479c5-ff9c-4423-d722-5356e0646d3a",
        "colab": {
          "base_uri": "https://localhost:8080/",
          "height": 374
        }
      },
      "source": [
        "net.to(device)\n",
        "x_train = x_train.to(device)\n",
        "y_train = y_train.to(device)\n",
        "\n",
        "x_dev = x_dev.to(device)\n",
        "y_dev = y_dev.to(device)\n",
        "\n",
        "net.train()\n",
        "losses = []\n",
        "accs = []\n",
        "ws = []\n",
        "bs = []\n",
        "for epoch in range(10000):  # do 200 epoch \n",
        "  # zero the gradients\n",
        "  optimizer.zero_grad()\n",
        "\n",
        "  # Forward \n",
        "  outputs = net(x_train)\n",
        "  # Calculate error\n",
        "  loss = criterion(outputs, y_train)\n",
        "  # Backward\n",
        "  loss.backward()\n",
        "  # Optimize/Update parameters\n",
        "  optimizer.step()\n",
        "  \n",
        "  # Track the changes - This is normally done using tensorboard or similar\n",
        "  losses.append(loss.item())\n",
        "  accs.append(sklearn.metrics.accuracy_score([1 if x > 0.5 else 0 for x in outputs.cpu().detach().numpy()], y_train.cpu().numpy()))\n",
        "  ws.append(net.fc1.weight.cpu().detach().numpy()[0][0])\n",
        "  bs.append(net.fc1.bias.cpu().detach().numpy()[0])\n",
        "\n",
        "  # print statistics\n",
        "  if epoch % 500 == 0:\n",
        "      acc = sklearn.metrics.accuracy_score([1 if x > 0.5 else 0 for x in outputs.cpu().detach().numpy()], y_train.cpu().numpy())\n",
        "      \n",
        "      outputs_dev = net(x_dev)\n",
        "      acc_dev = sklearn.metrics.accuracy_score([1 if x > 0.5 else 0 for x in outputs_dev.cpu().detach().numpy()], y_dev.cpu().numpy())\n",
        "      \n",
        "      print(\"Epoch: {:4} Loss: {:.5f} Acc: {:.3f} Acc Dev: {:.3f}\".format(epoch, loss.item(), acc, acc_dev))\n",
        "\n",
        "print('Finished Training')"
      ],
      "execution_count": 0,
      "outputs": [
        {
          "output_type": "stream",
          "text": [
            "Epoch:    0 Loss: 1.83091 Acc: 0.680 Acc Dev: 0.650\n",
            "Epoch:  500 Loss: 0.22205 Acc: 0.889 Acc Dev: 0.840\n",
            "Epoch: 1000 Loss: 0.41103 Acc: 0.781 Acc Dev: 0.800\n",
            "Epoch: 1500 Loss: 0.06857 Acc: 0.969 Acc Dev: 0.980\n",
            "Epoch: 2000 Loss: 0.14199 Acc: 0.939 Acc Dev: 0.920\n",
            "Epoch: 2500 Loss: 0.08148 Acc: 0.950 Acc Dev: 0.960\n",
            "Epoch: 3000 Loss: 0.03937 Acc: 0.985 Acc Dev: 0.990\n",
            "Epoch: 3500 Loss: 0.04478 Acc: 0.985 Acc Dev: 0.990\n",
            "Epoch: 4000 Loss: 0.03563 Acc: 0.986 Acc Dev: 0.990\n",
            "Epoch: 4500 Loss: 0.03443 Acc: 0.986 Acc Dev: 0.990\n",
            "Epoch: 5000 Loss: 0.02988 Acc: 1.000 Acc Dev: 1.000\n",
            "Epoch: 5500 Loss: 0.03162 Acc: 0.985 Acc Dev: 0.990\n",
            "Epoch: 6000 Loss: 0.02895 Acc: 1.000 Acc Dev: 1.000\n",
            "Epoch: 6500 Loss: 0.02870 Acc: 1.000 Acc Dev: 1.000\n",
            "Epoch: 7000 Loss: 0.02879 Acc: 1.000 Acc Dev: 1.000\n",
            "Epoch: 7500 Loss: 0.02811 Acc: 1.000 Acc Dev: 1.000\n",
            "Epoch: 8000 Loss: 0.02787 Acc: 1.000 Acc Dev: 1.000\n",
            "Epoch: 8500 Loss: 0.02781 Acc: 1.000 Acc Dev: 1.000\n",
            "Epoch: 9000 Loss: 0.02760 Acc: 1.000 Acc Dev: 1.000\n",
            "Epoch: 9500 Loss: 0.02740 Acc: 1.000 Acc Dev: 1.000\n",
            "Finished Training\n"
          ],
          "name": "stdout"
        }
      ]
    },
    {
      "cell_type": "markdown",
      "metadata": {
        "id": "HMqfPQMf-x6l",
        "colab_type": "text"
      },
      "source": [
        "# Plot Everything"
      ]
    },
    {
      "cell_type": "code",
      "metadata": {
        "id": "6sqlfJxLSkNN",
        "colab_type": "code",
        "outputId": "e2b6ed8d-ed6f-467a-fc28-3abade2f73f7",
        "colab": {
          "base_uri": "https://localhost:8080/",
          "height": 607
        }
      },
      "source": [
        "fig = plt.figure()\n",
        "fig.subplots_adjust(hspace=0.6, wspace=0.6)\n",
        "fig.set_size_inches(10, 10)\n",
        "plt.subplot(2, 2, 1)\n",
        "sns.lineplot(np.arange(0, len(bs)), bs).set_title(\"Bias\")\n",
        "\n",
        "plt.subplot(2, 2, 2)\n",
        "sns.lineplot(np.arange(0, len(ws)), ws).set_title(\"Weight\")\n",
        "\n",
        "# TODO: Add two plots for the Loss and Accuracy, place them in the right positions\n",
        "plt.subplot(2, 2, 3)\n",
        "sns.lineplot(np.arange(0, len(accs)), accs).set_title(\"Accuracy\")\n",
        "\n",
        "plt.subplot(2, 2, 4)\n",
        "sns.lineplot(np.arange(0, len(losses)), losses).set_title(\"Loss\")\n",
        "\n",
        "\n",
        "fig.show()"
      ],
      "execution_count": 0,
      "outputs": [
        {
          "output_type": "display_data",
          "data": {
            "image/png": "[encoded data removed]",
            "text/plain": [
              "<Figure size 720x720 with 4 Axes>"
            ]
          },
          "metadata": {
            "tags": []
          }
        }
      ]
    },
    {
      "cell_type": "markdown",
      "metadata": {
        "id": "6GWH2T7m9SBU",
        "colab_type": "text"
      },
      "source": [
        "# Let's do multiple layers"
      ]
    },
    {
      "cell_type": "code",
      "metadata": {
        "id": "umBqidrIG-43",
        "colab_type": "code",
        "colab": {}
      },
      "source": [
        "#TODO - Create a network with 3 Layers for each use sigmoid as activation:\n",
        "#L1 - 4 Neurons\n",
        "#L2 - 3 Neurons\n",
        "#L3 - 1 Neuron\n",
        "\n",
        "#Add sigmod as the activation function\n",
        "import torch.optim as optim\n",
        "class Net(nn.Module):\n",
        "    def __init__(self):\n",
        "      super(Net, self).__init__()\n",
        "      self.fc1 = nn.Linear(1, 4)\n",
        "      self.fc2 = nn.Linear(4, 3)\n",
        "      self.fc3 = nn.Linear(3, 1)\n",
        "   \n",
        "    def forward(self, x):\n",
        "      x = torch.sigmoid(self.fc1(x))\n",
        "      x = torch.sigmoid(self.fc2(x))\n",
        "      x = torch.sigmoid(self.fc3(x))\n",
        "      return x"
      ],
      "execution_count": 0,
      "outputs": []
    },
    {
      "cell_type": "code",
      "metadata": {
        "id": "AFw3aq6vvIzc",
        "colab_type": "code",
        "colab": {}
      },
      "source": [
        "net = Net()\n",
        "criterion = nn.BCELoss()\n",
        "optimizer = optim.SGD(net.parameters(), lr=0.0001, momentum=0.999)"
      ],
      "execution_count": 0,
      "outputs": []
    },
    {
      "cell_type": "code",
      "metadata": {
        "id": "Xcp1T7ivwg_m",
        "colab_type": "code",
        "outputId": "c6db19e7-fbf5-48b5-dd3d-3e2414d903aa",
        "colab": {
          "base_uri": "https://localhost:8080/",
          "height": 85
        }
      },
      "source": [
        "print(net.fc2.weight)"
      ],
      "execution_count": 0,
      "outputs": [
        {
          "output_type": "stream",
          "text": [
            "Parameter containing:\n",
            "tensor([[-0.0986, -0.1748, -0.3738,  0.1481],\n",
            "        [-0.1220,  0.3320, -0.0178,  0.1226],\n",
            "        [ 0.2707,  0.1862,  0.1667,  0.4490]], requires_grad=True)\n"
          ],
          "name": "stdout"
        }
      ]
    },
    {
      "cell_type": "code",
      "metadata": {
        "id": "mgyBXwaGvQ9c",
        "colab_type": "code",
        "outputId": "f8dd09d1-9fea-4b41-e247-3c39de2e436b",
        "colab": {
          "base_uri": "https://localhost:8080/",
          "height": 374
        }
      },
      "source": [
        "net.to(device)\n",
        "x_train = x_train.to(device)\n",
        "y_train = y_train.to(device)\n",
        "net.train()\n",
        "losses = []\n",
        "accs = []\n",
        "ws = []\n",
        "bs = []\n",
        "for epoch in range(10000):  # do 200 epoch \n",
        "  # zero the gradients\n",
        "  optimizer.zero_grad()\n",
        "\n",
        "  # Forward \n",
        "  outputs = net(x_train)\n",
        "  # Calculate error\n",
        "  loss = criterion(outputs, y_train)\n",
        "  # Backward\n",
        "  loss.backward()\n",
        "  # Optimize/Update parameters\n",
        "  optimizer.step()\n",
        "  \n",
        "  # Track the changes - This is normally done using tensorboard or similar\n",
        "  losses.append(loss.item())\n",
        "  accs.append(sklearn.metrics.accuracy_score([1 if x > 0.5 else 0 for x in outputs.cpu().detach().numpy()], y_train.cpu().numpy()))\n",
        "  ws.append(net.fc1.weight.cpu().detach().numpy()[0][0])\n",
        "  bs.append(net.fc1.bias.cpu().detach().numpy()[0])\n",
        "\n",
        "  # print statistics\n",
        "  if epoch % 500 == 0:\n",
        "      acc = sklearn.metrics.accuracy_score([1 if x > 0.5 else 0 for x in outputs.cpu().detach().numpy()], y_train.cpu().numpy())\n",
        "      print(\"Epoch: {:4} Loss: {:.5} Acc: {:.3}\".format(epoch, loss.item(), acc))\n",
        "\n",
        "print('Finished Training')"
      ],
      "execution_count": 0,
      "outputs": [
        {
          "output_type": "stream",
          "text": [
            "Epoch:    0 Loss: 0.62648 Acc: 0.772\n",
            "Epoch:  500 Loss: 0.5788 Acc: 0.772\n",
            "Epoch: 1000 Loss: 0.51476 Acc: 0.772\n",
            "Epoch: 1500 Loss: 0.41977 Acc: 0.772\n",
            "Epoch: 2000 Loss: 0.35309 Acc: 0.772\n",
            "Epoch: 2500 Loss: 0.31646 Acc: 0.772\n",
            "Epoch: 3000 Loss: 0.23694 Acc: 0.978\n",
            "Epoch: 3500 Loss: 0.12438 Acc: 0.985\n",
            "Epoch: 4000 Loss: 0.076848 Acc: 0.986\n",
            "Epoch: 4500 Loss: 0.048942 Acc: 1.0\n",
            "Epoch: 5000 Loss: 0.031298 Acc: 1.0\n",
            "Epoch: 5500 Loss: 0.025936 Acc: 1.0\n",
            "Epoch: 6000 Loss: 0.020112 Acc: 1.0\n",
            "Epoch: 6500 Loss: 0.018058 Acc: 1.0\n",
            "Epoch: 7000 Loss: 0.016152 Acc: 1.0\n",
            "Epoch: 7500 Loss: 0.014558 Acc: 1.0\n",
            "Epoch: 8000 Loss: 0.013531 Acc: 1.0\n",
            "Epoch: 8500 Loss: 0.012786 Acc: 1.0\n",
            "Epoch: 9000 Loss: 0.01218 Acc: 1.0\n",
            "Epoch: 9500 Loss: 0.011628 Acc: 1.0\n",
            "Finished Training\n"
          ],
          "name": "stdout"
        }
      ]
    },
    {
      "cell_type": "code",
      "metadata": {
        "id": "TKdNsXlnvUMw",
        "colab_type": "code",
        "outputId": "10903073-2588-469b-df35-849ae0dc1deb",
        "colab": {
          "base_uri": "https://localhost:8080/",
          "height": 624
        }
      },
      "source": [
        "fig = plt.figure()\n",
        "fig.subplots_adjust(hspace=0.6, wspace=0.6)\n",
        "fig.set_size_inches(10, 10)\n",
        "plt.subplot(2, 2, 1)\n",
        "sns.lineplot(np.arange(0, len(bs)), bs).set_title(\"Bias\")\n",
        "\n",
        "plt.subplot(2, 2, 2)\n",
        "sns.lineplot(np.arange(0, len(ws)), ws).set_title(\"Weight\")\n",
        "\n",
        "# COPY FROM ABOVE - SAME THING\n",
        "\n",
        "plt.subplot(2, 2, 3)\n",
        "sns.lineplot(np.arange(0, len(accs)), accs).set_title(\"Accuracy\")\n",
        "\n",
        "plt.subplot(2, 2, 4)\n",
        "sns.lineplot(np.arange(0, len(losses)), losses).set_title(\"Loss\")"
      ],
      "execution_count": 0,
      "outputs": [
        {
          "output_type": "execute_result",
          "data": {
            "text/plain": [
              "Text(0.5, 1.0, 'Loss')"
            ]
          },
          "metadata": {
            "tags": []
          },
          "execution_count": 105
        },
        {
          "output_type": "display_data",
          "data": {
            "image/png": "[encoded data removed]",
            "text/plain": [
              "<Figure size 720x720 with 4 Axes>"
            ]
          },
          "metadata": {
            "tags": []
          }
        }
      ]
    },
    {
      "cell_type": "code",
      "metadata": {
        "id": "PQ4rqkn2zAzB",
        "colab_type": "code",
        "outputId": "4c5800ec-df58-4290-c4ff-18b0083d82f3",
        "colab": {
          "base_uri": "https://localhost:8080/",
          "height": 102
        }
      },
      "source": [
        "net.eval()\n",
        "net.to(\"cpu\")"
      ],
      "execution_count": 0,
      "outputs": [
        {
          "output_type": "execute_result",
          "data": {
            "text/plain": [
              "Net(\n",
              "  (fc1): Linear(in_features=1, out_features=4, bias=True)\n",
              "  (fc2): Linear(in_features=4, out_features=3, bias=True)\n",
              "  (fc3): Linear(in_features=3, out_features=1, bias=True)\n",
              ")"
            ]
          },
          "metadata": {
            "tags": []
          },
          "execution_count": 106
        }
      ]
    },
    {
      "cell_type": "code",
      "metadata": {
        "id": "eCon-C5gzHhv",
        "colab_type": "code",
        "outputId": "eb4e19c9-38b7-434c-c2ee-8f84157aab96",
        "colab": {
          "base_uri": "https://localhost:8080/",
          "height": 34
        }
      },
      "source": [
        "net(torch.tensor([-100], dtype=torch.float32))"
      ],
      "execution_count": 0,
      "outputs": [
        {
          "output_type": "execute_result",
          "data": {
            "text/plain": [
              "tensor([8.3230e-05], grad_fn=<SigmoidBackward>)"
            ]
          },
          "metadata": {
            "tags": []
          },
          "execution_count": 107
        }
      ]
    },
    {
      "cell_type": "code",
      "metadata": {
        "id": "At-5uGkMzQxV",
        "colab_type": "code",
        "colab": {}
      },
      "source": [
        ""
      ],
      "execution_count": 0,
      "outputs": []
    }
  ]
}